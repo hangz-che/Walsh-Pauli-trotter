{
 "cells": [
  {
   "cell_type": "code",
   "execution_count": 28,
   "id": "bd5aae0d",
   "metadata": {},
   "outputs": [],
   "source": [
    "import numpy as np\n",
    "from qiskit import QuantumCircuit\n",
    "from qiskit.quantum_info import Statevector\n",
    "import matplotlib.pyplot as plt \n",
    "try:\n",
    "    from IPython.display import display, Latex \n",
    "    try: \n",
    "        JUPYTER_AVAILABLE = True\n",
    "    except NameError:\n",
    "        JUPYTER_AVAILABLE = False\n",
    "except ImportError:\n",
    "    JUPYTER_AVAILABLE = False\n",
    "%matplotlib inline"
   ]
  },
  {
   "cell_type": "code",
   "execution_count": 29,
   "id": "bdd66614",
   "metadata": {},
   "outputs": [],
   "source": [
    "\n",
    "def smart_display_latex(latex_obj, description=\"\"): \n",
    "    if JUPYTER_AVAILABLE: \n",
    "        if description:\n",
    "            print(description)\n",
    "        if hasattr(latex_obj, 'data'):\n",
    "            display(Latex(latex_obj.data))\n",
    "        else:\n",
    "            display(latex_obj)\n",
    "    else: \n",
    "        if description:\n",
    "            print(description)\n",
    "        if hasattr(latex_obj, 'data'): \n",
    "            latex_str = latex_obj.data \n",
    "            clean_str = latex_str.replace('$$', '').replace('$', '') \n",
    "            clean_str = clean_str.replace('\\\\rangle', '⟩')\n",
    "            clean_str = clean_str.replace('\\\\langle', '⟨')\n",
    "            clean_str = clean_str.replace('\\\\frac{\\\\sqrt{2}}{2}', '1/√2')\n",
    "            clean_str = clean_str.replace('\\\\frac{1}{2}', '1/2')\n",
    "            clean_str = clean_str.replace('\\\\sqrt{2}', '√2')\n",
    "            clean_str = clean_str.replace('\\\\otimes', '⊗')\n",
    "            print(f\"  {clean_str}\")\n",
    "        else:\n",
    "            print(f\"  {latex_obj}\")\n",
    " \n",
    "\n",
    "def draw_and_save_circuit(circuit, title):\n",
    "    fig = circuit.draw(output='mpl', style='iqp')\n",
    "    if title:\n",
    "        plt.title(title)\n",
    "    plt.tight_layout() \n",
    "    plt.show() \n"
   ]
  },
  {
   "cell_type": "code",
   "execution_count": null,
   "id": "68eff149",
   "metadata": {},
   "outputs": [],
   "source": [
    "def z_k_rotation(qc: QuantumCircuit, qubits, theta: float): \n",
    "    for i in range(len(qubits)-1):\n",
    "        qc.cx(qubits[i], qubits[i+1])\n",
    "    qc.rz(2*theta, qubits[-1])\n",
    "    for i in reversed(range(len(qubits)-1)):\n",
    "        qc.cx(qubits[i], qubits[i+1])\n",
    "\n",
    "\n",
    "def build_circuit(kappa: float, t: float) -> QuantumCircuit:\n",
    "    \n",
    "    theta = kappa * t / 2 \n",
    "    qc = QuantumCircuit(4)\n",
    "\n",
    "    # Prepare (|00⟩+|11⟩)^⊗2, two Bell states \n",
    "    qc.rx(np.pi/10, 0)  \n",
    "    qc.cx(0, 1)  \n",
    "\n",
    "    qc.rx(np.pi/10, 2)  \n",
    "    qc.cx(2, 3)   \n",
    "    qc.barrier()\n",
    "    # Global phase from the identity term: exp(-i * theta * I) (optional)\n",
    "    # qc.global_phase = qc.global_phase - theta\n",
    "\n",
    "    # Apply exp(-i * theta * Z1 Z3)\n",
    "    z_k_rotation(qc, [0, 2], theta)\n",
    "    qc.barrier()\n",
    "\n",
    "    # Apply exp(-i * theta * Z2 Z4)\n",
    "    z_k_rotation(qc, [1, 3], theta)\n",
    "    qc.barrier()\n",
    "\n",
    "    # Apply exp(-i * theta * Z1 Z2 Z3 Z4)\n",
    "    z_k_rotation(qc, [0, 1, 2, 3], theta)\n",
    "    qc.barrier()\n",
    "\n",
    "    return qc\n"
   ]
  },
  {
   "cell_type": "code",
   "execution_count": 31,
   "id": "35cd3740",
   "metadata": {},
   "outputs": [],
   "source": [
    "\n",
    "def analyze_tensor_decomposition(state_vector):\n",
    "    \"\"\"\n",
    "    Analyze the tensor decomposition properties of a 4-qubit state.\n",
    "    Returns Schmidt rank and decomposition details.\n",
    "    \"\"\" \n",
    "    latex_state = state_vector.draw(output='latex')\n",
    "    smart_display_latex(latex_state)\n",
    "    \n",
    "    amps = np.array(state_vector.data)\n",
    "    C = amps.reshape(4, 4)  # Reshape as (01)|(23)\n",
    "    \n",
    "    # SVD for Schmidt decomposition\n",
    "    u, s, vh = np.linalg.svd(C)\n",
    "    rank = np.sum(s > 1e-10)\n",
    "    \n",
    "    print(f\"Schmidt decomposition analysis:\")\n",
    "    print(f\"- Schmidt rank: {rank}\")\n",
    "    print(f\"- Schmidt values: {s[s > 1e-10]}\")\n",
    "    \n",
    "    if rank == 1:\n",
    "        print(f\"- State is SEPARABLE: |ψ⟩ = |ψ₁⟩ ⊗ |ψ₂⟩\")\n",
    "        # Extract factors\n",
    "        left_factor = u[:, 0] * np.sqrt(s[0])\n",
    "        right_factor = vh[0, :] * np.sqrt(s[0])\n",
    "        print(f\"- Schmidt decomposition: |ψ⟩ = {s[0]:.6f} |ψ_L⟩ ⊗ |ψ_R⟩\")\n",
    "        \n",
    "        # Create Statevector objects for LaTeX display\n",
    "        left_sv = Statevector(left_factor)\n",
    "        right_sv = Statevector(right_factor)\n",
    "        \n",
    "        left_latex = left_sv.draw(output='latex')\n",
    "        right_latex = right_sv.draw(output='latex')\n",
    "        \n",
    "        smart_display_latex(left_latex, \"  Left state |ψ_L⟩ (qubits 01):\")\n",
    "        smart_display_latex(right_latex, \"  Right state |ψ_R⟩ (qubits 23):\")\n",
    "        return rank, left_factor, right_factor\n",
    "    else:\n",
    "        print(f\"- State is ENTANGLED (rank {rank})\")\n",
    "        print(f\"- Schmidt decomposition: |ψ⟩ = Σᵢ λᵢ |uᵢ⟩ ⊗ |vᵢ⟩\")\n",
    "        for i in range(min(rank, 2)):  # Show first 2 terms\n",
    "            left_vec = u[:, i]\n",
    "            right_vec = vh[i, :]\n",
    "            print(f\"  Term {i+1}: {s[i]:.6f} |u_{i+1}⟩ ⊗ |v_{i+1}⟩\")\n",
    "            \n",
    "            # Create Statevector objects for LaTeX  \n",
    "            left_sv = Statevector(left_vec)\n",
    "            right_sv = Statevector(right_vec)\n",
    "            \n",
    "            left_latex = left_sv.draw(output='latex')\n",
    "            right_latex = right_sv.draw(output='latex')\n",
    "            \n",
    "            smart_display_latex(left_latex, f\"    |u_{i+1}⟩ (qubits 01):\")\n",
    "            smart_display_latex(right_latex, f\"    |v_{i+1}⟩ (qubits 23):\")\n",
    "        return rank, u, vh\n",
    "\n",
    "\n",
    "def tensor_decomposition_check(kappa=1.0, t=0.2):   \n",
    "    print(\"=== Tensor Decomposition Analysis ===\")\n",
    "    \n",
    "    # Create initial state circuit (separate from evolution)\n",
    "    qc_initial = QuantumCircuit(4)\n",
    "    qc_initial.h(0); qc_initial.cx(0, 1)\n",
    "    qc_initial.h(2); qc_initial.cx(2, 3)\n",
    "    sv_initial = Statevector.from_instruction(qc_initial)\n",
    "    \n",
    "    print(\"\\nInitial State (|00⟩+|11⟩)^⊗2:\")\n",
    "    rank_init, _, _ = analyze_tensor_decomposition(sv_initial)\n",
    "    \n",
    "    print(\"\\n\" + \"-\" * 60)\n",
    "    \n",
    "    # Create evolution circuit and analyze final state\n",
    "    qc_final = build_circuit(kappa=kappa, t=t)\n",
    "    \n",
    "    print(\"\\nDrawing and saving evolution circuit...\")\n",
    "    draw_and_save_circuit(qc_final, \"Full Evolution Circuit\")\n",
    "    \n",
    "    sv_final = Statevector.from_instruction(qc_final)\n",
    "    \n",
    "    print(\"\\nFinal State after evolution:\")\n",
    "    rank_final, _, _ = analyze_tensor_decomposition(sv_final)\n",
    "    \n",
    "    print(f\"\\nComparison:\")\n",
    "    print(f\"Initial state rank: {rank_init} (separable: rank=1)\")\n",
    "    print(f\"Final state rank:   {rank_final} (entangled: rank>1)\")\n",
    " "
   ]
  },
  {
   "cell_type": "code",
   "execution_count": 32,
   "id": "b378709a",
   "metadata": {},
   "outputs": [
    {
     "name": "stdout",
     "output_type": "stream",
     "text": [
      "=== Tensor Decomposition Analysis ===\n",
      "\n",
      "Initial State (|00⟩+|11⟩)^⊗2:\n"
     ]
    },
    {
     "data": {
      "text/latex": [
       "$$\\frac{1}{2} |0000\\rangle+\\frac{1}{2} |0011\\rangle+\\frac{1}{2} |1100\\rangle+\\frac{1}{2} |1111\\rangle$$"
      ],
      "text/plain": [
       "<IPython.core.display.Latex object>"
      ]
     },
     "metadata": {},
     "output_type": "display_data"
    },
    {
     "name": "stdout",
     "output_type": "stream",
     "text": [
      "Schmidt decomposition analysis:\n",
      "- Schmidt rank: 1\n",
      "- Schmidt values: [1.]\n",
      "- State is SEPARABLE: |ψ⟩ = |ψ₁⟩ ⊗ |ψ₂⟩\n",
      "- Schmidt decomposition: |ψ⟩ = 1.000000 |ψ_L⟩ ⊗ |ψ_R⟩\n",
      "  Left state |ψ_L⟩ (qubits 01):\n"
     ]
    },
    {
     "data": {
      "text/latex": [
       "$$- \\frac{\\sqrt{2}}{2} |00\\rangle- \\frac{\\sqrt{2}}{2} |11\\rangle$$"
      ],
      "text/plain": [
       "<IPython.core.display.Latex object>"
      ]
     },
     "metadata": {},
     "output_type": "display_data"
    },
    {
     "name": "stdout",
     "output_type": "stream",
     "text": [
      "  Right state |ψ_R⟩ (qubits 23):\n"
     ]
    },
    {
     "data": {
      "text/latex": [
       "$$- \\frac{\\sqrt{2}}{2} |00\\rangle- \\frac{\\sqrt{2}}{2} |11\\rangle$$"
      ],
      "text/plain": [
       "<IPython.core.display.Latex object>"
      ]
     },
     "metadata": {},
     "output_type": "display_data"
    },
    {
     "name": "stdout",
     "output_type": "stream",
     "text": [
      "\n",
      "------------------------------------------------------------\n",
      "\n",
      "Drawing and saving evolution circuit...\n"
     ]
    },
    {
     "data": {
      "image/png": "[encoded data removed]",
      "text/plain": [
       "<Figure size 1708.89x367.889 with 1 Axes>"
      ]
     },
     "metadata": {},
     "output_type": "display_data"
    },
    {
     "name": "stdout",
     "output_type": "stream",
     "text": [
      "\n",
      "Final State after evolution:\n"
     ]
    },
    {
     "data": {
      "text/latex": [
       "$$(0.9319577412 - 0.2882883125 i) |0000\\rangle+(0.0154251112 - 0.1537365983 i) |0011\\rangle+(0.0154251112 - 0.1537365983 i) |1100\\rangle+(-0.0233787479 + 0.0072318942 i) |1111\\rangle$$"
      ],
      "text/plain": [
       "<IPython.core.display.Latex object>"
      ]
     },
     "metadata": {},
     "output_type": "display_data"
    },
    {
     "name": "stdout",
     "output_type": "stream",
     "text": [
      "Schmidt decomposition analysis:\n",
      "- Schmidt rank: 2\n",
      "- Schmidt values: [0.99982707 0.01859629]\n",
      "- State is ENTANGLED (rank 2)\n",
      "- Schmidt decomposition: |ψ⟩ = Σᵢ λᵢ |uᵢ⟩ ⊗ |vᵢ⟩\n",
      "  Term 1: 0.999827 |u_1⟩ ⊗ |v_1⟩\n",
      "    |u_1⟩ (qubits 01):\n"
     ]
    },
    {
     "data": {
      "text/latex": [
       "$$(-0.9438592626 + 0.2915254267 i) |00\\rangle+(-0.0128422344 + 0.1548473282 i) |11\\rangle$$"
      ],
      "text/plain": [
       "<IPython.core.display.Latex object>"
      ]
     },
     "metadata": {},
     "output_type": "display_data"
    },
    {
     "name": "stdout",
     "output_type": "stream",
     "text": [
      "    |v_1⟩ (qubits 23):\n"
     ]
    },
    {
     "data": {
      "text/latex": [
       "$$-0.9878549397 |00\\rangle+(-0.0579672106 + 0.1441610923 i) |11\\rangle$$"
      ],
      "text/plain": [
       "<IPython.core.display.Latex object>"
      ]
     },
     "metadata": {},
     "output_type": "display_data"
    },
    {
     "name": "stdout",
     "output_type": "stream",
     "text": [
      "  Term 2: 0.018596 |u_2⟩ ⊗ |v_2⟩\n",
      "    |u_2⟩ (qubits 01):\n"
     ]
    },
    {
     "data": {
      "text/latex": [
       "$$(-0.0958854669 - 0.1222644482 i) |00\\rangle+(0.9486302796 - 0.2756047435 i) |11\\rangle$$"
      ],
      "text/plain": [
       "<IPython.core.display.Latex object>"
      ]
     },
     "metadata": {},
     "output_type": "display_data"
    },
    {
     "name": "stdout",
     "output_type": "stream",
     "text": [
      "    |v_2⟩ (qubits 23):\n"
     ]
    },
    {
     "data": {
      "text/latex": [
       "$$0.1553789498 |00\\rangle+(-0.3685389523 + 0.9165350089 i) |11\\rangle$$"
      ],
      "text/plain": [
       "<IPython.core.display.Latex object>"
      ]
     },
     "metadata": {},
     "output_type": "display_data"
    },
    {
     "name": "stdout",
     "output_type": "stream",
     "text": [
      "\n",
      "Comparison:\n",
      "Initial state rank: 1 (separable: rank=1)\n",
      "Final state rank:   2 (entangled: rank>1)\n"
     ]
    }
   ],
   "source": [
    "\n",
    "tensor_decomposition_check()\n"
   ]
  },
  {
   "cell_type": "code",
   "execution_count": null,
   "id": "54194b88",
   "metadata": {},
   "outputs": [],
   "source": []
  },
  {
   "cell_type": "code",
   "execution_count": null,
   "id": "53db1a74",
   "metadata": {},
   "outputs": [],
   "source": []
  }
 ],
 "metadata": {
  "kernelspec": {
   "display_name": "cemracs2025",
   "language": "python",
   "name": "python3"
  },
  "language_info": {
   "codemirror_mode": {
    "name": "ipython",
    "version": 3
   },
   "file_extension": ".py",
   "mimetype": "text/x-python",
   "name": "python",
   "nbconvert_exporter": "python",
   "pygments_lexer": "ipython3",
   "version": "3.12.11"
  }
 },
 "nbformat": 4,
 "nbformat_minor": 5
}
